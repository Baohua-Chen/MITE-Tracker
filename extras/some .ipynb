{
 "cells": [
  {
   "cell_type": "code",
   "execution_count": 2,
   "metadata": {},
   "outputs": [
    {
     "name": "stdout",
     "output_type": "stream",
     "text": [
      "['TWIF' 'DNA9-13_OS' 'hAT-N98_OS' 'hAT-N54_OS' 'F1275' 'Helitron-N185_OS'\n",
      " 'hAT-N104_OS' 'hAT-N105_OS' 'DNAUN1_OS' 'MuDR-N101_OS' 'OSTE26'\n",
      " 'MuDR-N142_OS' 'hAT-22N1_OS' 'TOURIST-IX' 'DNAUN2_OS' 'DNAUN4_OS'\n",
      " 'MuDR-N85_OS' 'MuDR-N103_OS' 'DNAUN3_OS' 'MuDR-N103B_OS' 'MuDR-N135_OS'\n",
      " 'MuDR-N61_OS' 'MuDR-N80_OS' 'Harbinger-N61_OS' 'MuDR-N36_OS'\n",
      " 'MuDR-N17_OS' 'MuDR-N46_OS' 'DNA9-14_OS' 'STOWAWAY27_OS' 'DNA9-73_OS'\n",
      " 'DNA9-27D_OS' 'DNA9-27B_OS' 'DNA9-27C_OS' 'Harbinger-N46_OS' 'TOURIST-XV'\n",
      " 'STOWAWAY29_OS' 'SAT-2_OS' 'P-N1_OS' 'hAT-N23_OS' 'hAT-N23B_OS'\n",
      " 'hAT-N64_OS' 'hAT-N13_OS' 'Harbinger-N7_OS' 'Helitron-N24_OS'\n",
      " 'MuDR-N263_OS' 'CACTA-G1']\n"
     ]
    }
   ],
   "source": [
    "#is in df a but not in b\n",
    "import pandas as pd\n",
    "df_a = pd.read_csv('detectMITE_repbase_filtered',delimiter=\"\\t\", header=None)\n",
    "df_b = pd.read_csv('MITE_Tracker_repbase_filtered',delimiter=\"\\t\", header=None)\n",
    "df_a.columns = ['qseqid','sseqid','pident','length','mismatch','gapopen','qstart','qend','sstart','send','evalue','bitscore',]\n",
    "df_b.columns = ['qseqid','sseqid','pident','length','mismatch','gapopen','qstart','qend','sstart','send','evalue','bitscore',]\n",
    "\n",
    "res = df_a[~df_a.sseqid.isin(df_b.sseqid)]\n",
    "values = pd.unique(res.sseqid)\n",
    "print(values)"
   ]
  },
  {
   "cell_type": "code",
   "execution_count": null,
   "metadata": {},
   "outputs": [],
   "source": []
  }
 ],
 "metadata": {
  "kernelspec": {
   "display_name": "Python 3",
   "language": "python",
   "name": "python3"
  },
  "language_info": {
   "codemirror_mode": {
    "name": "ipython",
    "version": 3
   },
   "file_extension": ".py",
   "mimetype": "text/x-python",
   "name": "python",
   "nbconvert_exporter": "python",
   "pygments_lexer": "ipython3",
   "version": "3.6.5"
  }
 },
 "nbformat": 4,
 "nbformat_minor": 2
}
