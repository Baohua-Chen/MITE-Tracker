{
 "cells": [
  {
   "cell_type": "code",
   "execution_count": 2,
   "metadata": {},
   "outputs": [
    {
     "name": "stdout",
     "output_type": "stream",
     "text": [
      "['TWIF' 'DNA9-13_OS' 'hAT-N98_OS' 'hAT-N54_OS' 'F1275' 'Helitron-N185_OS'\n",
      " 'hAT-N104_OS' 'hAT-N105_OS' 'DNAUN1_OS' 'MuDR-N101_OS' 'OSTE26'\n",
      " 'MuDR-N142_OS' 'hAT-22N1_OS' 'TOURIST-IX' 'DNAUN2_OS' 'DNAUN4_OS'\n",
      " 'MuDR-N85_OS' 'MuDR-N103_OS' 'DNAUN3_OS' 'MuDR-N103B_OS' 'MuDR-N135_OS'\n",
      " 'MuDR-N61_OS' 'MuDR-N80_OS' 'Harbinger-N61_OS' 'MuDR-N36_OS'\n",
      " 'MuDR-N17_OS' 'MuDR-N46_OS' 'DNA9-14_OS' 'STOWAWAY27_OS' 'DNA9-73_OS'\n",
      " 'DNA9-27D_OS' 'DNA9-27B_OS' 'DNA9-27C_OS' 'Harbinger-N46_OS' 'TOURIST-XV'\n",
      " 'STOWAWAY29_OS' 'SAT-2_OS' 'P-N1_OS' 'hAT-N23_OS' 'hAT-N23B_OS'\n",
      " 'hAT-N64_OS' 'hAT-N13_OS' 'Harbinger-N7_OS' 'Helitron-N24_OS'\n",
      " 'MuDR-N263_OS' 'CACTA-G1']\n"
     ]
    }
   ],
   "source": [
    "#is in df a but not in b\n",
    "import pandas as pd\n",
    "df_a = pd.read_csv('detectMITE_repbase_filtered',delimiter=\"\\t\", header=None)\n",
    "df_b = pd.read_csv('MITE_Tracker_repbase_filtered',delimiter=\"\\t\", header=None)\n",
    "df_a.columns = ['qseqid','sseqid','pident','length','mismatch','gapopen','qstart','qend','sstart','send','evalue','bitscore',]\n",
    "df_b.columns = ['qseqid','sseqid','pident','length','mismatch','gapopen','qstart','qend','sstart','send','evalue','bitscore',]\n",
    "\n",
    "res = df_a[~df_a.sseqid.isin(df_b.sseqid)]\n",
    "values = pd.unique(res.sseqid)\n",
    "print(values)"
   ]
  },
  {
   "cell_type": "code",
   "execution_count": 11,
   "metadata": {},
   "outputs": [
    {
     "name": "stdout",
     "output_type": "stream",
     "text": [
      "44463\n"
     ]
    }
   ],
   "source": [
    "#uncovered elements\n",
    "import pandas as pd\n",
    "df = pd.read_csv('uncovered_search.csv',delimiter=\"\\t\", header=None)\n",
    "df.columns = ['qseqid','sseqid','pident','length','mismatch','gapopen','qstart','qend','sstart','send','evalue','bitscore',]\n",
    "\n",
    "df_2 = pd.read_csv('uncovered_search_2.csv',delimiter=\"\\t\", header=None)\n",
    "df_2.columns = ['qseqid','sseqid','pident','length','mismatch','gapopen','qstart','qend','sstart','send','evalue','bitscore',]\n",
    "\n",
    "frames = [df, df_2]\n",
    "df_res = pd.concat(frames)\n",
    "values = pd.unique(df_res.qseqid)\n",
    "\n",
    "\n",
    "print(len(values))\n",
    "\n"
   ]
  },
  {
   "cell_type": "code",
   "execution_count": 24,
   "metadata": {},
   "outputs": [],
   "source": [
    "#homology cn count\n",
    "import pandas as pd\n",
    "from Bio import SeqIO\n",
    "#cmd = 'blastn -task blastn -evalue 10e-3 -qcov_hsp_perc 80 -subject %s -query %s -outfmt 6  > %s'\n",
    "#cmd = cmd % ('data/tracker/families_nr.fasta','../../data/IRGSP-1.0_genome.fasta',  dbname)\n",
    "#os.system(cmd)\n",
    "\n",
    "df = pd.read_csv('data/tracker/homology_new_families.csv', delimiter=\"\\t\", header=None)\n",
    "df.columns = ['qseqid','sseqid','pident','length','mismatch','gapopen','qstart','qend','sstart','send','evalue','bitscore',]\n",
    "\n",
    "df_n = pd.DataFrame()\n",
    "df_n['name'] = df.qseqid.value_counts().keys()\n",
    "df_n['count_blast'] = df.qseqid.value_counts().tolist()\n",
    "df_n['count_tracker'] = 0\n",
    "\n",
    "df_all = SeqIO.index('data/tracker/all.fasta','fasta')\n",
    "df_seqs = SeqIO.index('data/tracker/new.fasta','fasta')\n",
    "counts = {}\n",
    "for family in df_seqs:\n",
    "    family_name = (family.split('|')[-1])\n",
    "    for ele in df_all:\n",
    "        ele_family_name = (ele.split('|')[-1])\n",
    "        if ele_family_name == family_name:\n",
    "            counts[family_name] = counts.get(family_name, 0) + 1\n",
    "\n",
    "#for k,v in counts.items():\n",
    "for dk, dv in df_n.iterrows():\n",
    "    family_name = (dv['name'].split('|')[-1])\n",
    "    df_n.loc[dk, 'count_tracker'] = counts[family_name]\n",
    "df_n.to_csv('data/tracker/counts.csv', index=False)\n",
    "#    print(df_n[df_n.name.str.contains(k)])\n",
    "#    print(k)\n",
    "#    print('*'*10)\n",
    "#print(df_n.sort_values('count_blast'))\n",
    "\n",
    "\n"
   ]
  },
  {
   "cell_type": "code",
   "execution_count": null,
   "metadata": {},
   "outputs": [],
   "source": [
    "\n"
   ]
  }
 ],
 "metadata": {
  "kernelspec": {
   "display_name": "Python 3",
   "language": "python",
   "name": "python3"
  },
  "language_info": {
   "codemirror_mode": {
    "name": "ipython",
    "version": 3
   },
   "file_extension": ".py",
   "mimetype": "text/x-python",
   "name": "python",
   "nbconvert_exporter": "python",
   "pygments_lexer": "ipython3",
   "version": "3.6.5"
  }
 },
 "nbformat": 4,
 "nbformat_minor": 2
}
