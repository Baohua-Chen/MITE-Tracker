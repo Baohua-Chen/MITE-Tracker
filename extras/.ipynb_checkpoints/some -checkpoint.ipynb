{
 "cells": [
  {
   "cell_type": "code",
   "execution_count": null,
   "metadata": {},
   "outputs": [],
   "source": [
    "#is in df a but not in b\n",
    "import pandas as pd\n",
    "df_b = pd.read_csv('detectMITE_repbase_filtered',delimiter=\"\\t\", header=None)\n",
    "df_a = pd.read_csv('MITE_Tracker_repbase_filtered',delimiter=\"\\t\", header=None)\n",
    "df_a.columns = ['qseqid','sseqid','pident','length','mismatch','gapopen','qstart','qend','sstart','send','evalue','bitscore',]\n",
    "df_b.columns = ['qseqid','sseqid','pident','length','mismatch','gapopen','qstart','qend','sstart','send','evalue','bitscore',]\n",
    "\n",
    "res = df_a[~df_a.sseqid.isin(df_b.sseqid)]\n",
    "values = pd.unique(res.sseqid)\n",
    "print(values)"
   ]
  },
  {
   "cell_type": "code",
   "execution_count": null,
   "metadata": {},
   "outputs": [],
   "source": []
  }
 ],
 "metadata": {
  "kernelspec": {
   "display_name": "Python 3",
   "language": "python",
   "name": "python3"
  },
  "language_info": {
   "codemirror_mode": {
    "name": "ipython",
    "version": 3
   },
   "file_extension": ".py",
   "mimetype": "text/x-python",
   "name": "python",
   "nbconvert_exporter": "python",
   "pygments_lexer": "ipython3",
   "version": "3.6.5"
  }
 },
 "nbformat": 4,
 "nbformat_minor": 2
}
